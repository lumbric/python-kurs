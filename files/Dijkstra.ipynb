{
 "cells": [
  {
   "cell_type": "markdown",
   "metadata": {},
   "source": [
    "# Dijkstra's algortihm"
   ]
  },
  {
   "cell_type": "markdown",
   "metadata": {},
   "source": [
    "### Import the relevant libraries"
   ]
  },
  {
   "cell_type": "code",
   "execution_count": 17,
   "metadata": {},
   "outputs": [],
   "source": [
    "import networkx as nx\n",
    "import matplotlib.pyplot as plt\n",
    "import time"
   ]
  },
  {
   "cell_type": "markdown",
   "metadata": {},
   "source": [
    "### Start the timer and import the txt file with the data"
   ]
  },
  {
   "cell_type": "code",
   "execution_count": 18,
   "metadata": {},
   "outputs": [],
   "source": [
    "#start timer\n",
    "time_start = time.perf_counter()\n",
    "\n",
    "#import the data\n",
    "G = nx.read_weighted_edgelist('data_meet_06.txt')"
   ]
  },
  {
   "cell_type": "markdown",
   "metadata": {},
   "source": [
    "### Read the imported file and save it in a new array for further calculations"
   ]
  },
  {
   "cell_type": "code",
   "execution_count": 19,
   "metadata": {},
   "outputs": [],
   "source": [
    "#create a new array and fill it with the data from the previous read in file\n",
    "raw_matrix = []\n",
    "with open(\"data_meet_06.txt\") as file:\n",
    "    for line in file.readlines():\n",
    "        raw_matrix.append(line.split())"
   ]
  },
  {
   "cell_type": "markdown",
   "metadata": {},
   "source": [
    "### Print the before created array to examine if it worked correctly"
   ]
  },
  {
   "cell_type": "code",
   "execution_count": 20,
   "metadata": {},
   "outputs": [
    {
     "name": "stdout",
     "output_type": "stream",
     "text": [
      "['Amsterdam', 'Wien', '1']\n",
      "['Wien', 'Helsinki', '2']\n",
      "['Amsterdam', 'Helsinki', '3']\n",
      "['Helsinki', 'Stockholm', '4']\n",
      "['Stockholm', 'Berlin', '2']\n",
      "['Wien', 'Berlin', '1']\n",
      "\n",
      "There are 6 edges and 5 nodes in the dataset.\n"
     ]
    }
   ],
   "source": [
    "#print array\n",
    "for x in range(len(raw_matrix)): \n",
    "    print (raw_matrix[x],)\n",
    "\n",
    "#how many edges and nodes contains the file?   \n",
    "print(\"\\nThere are\",G.number_of_edges(),\"edges and\",G.number_of_nodes(),\"nodes in the dataset.\")"
   ]
  },
  {
   "cell_type": "markdown",
   "metadata": {},
   "source": [
    "### Define the start and the end node and calculate the optimal route"
   ]
  },
  {
   "cell_type": "code",
   "execution_count": 21,
   "metadata": {},
   "outputs": [
    {
     "name": "stdout",
     "output_type": "stream",
     "text": [
      "\n",
      "From Amsterdam to Berlin the amount of the CO2-emission for the truck is 2.0\n",
      "Route is as following ['Amsterdam', 'Wien', 'Berlin']\n"
     ]
    }
   ],
   "source": [
    "u = \"Amsterdam\" # start node\n",
    "v = \"Berlin\" # end node\n",
    "emissions = nx.dijkstra_path_length(G,u,v)\n",
    "path = nx.dijkstra_path(G,u,v)\n",
    "optimal_route = [(path[i - 1], path[i]) for i in range(1, len(path))]\n",
    "\n",
    "print(\"\\nFrom {} to {} the amount of the CO2-emission for the truck is {}\" .format(u,v,emissions))\n",
    "print(\"Route is as following\", path)"
   ]
  },
  {
   "cell_type": "markdown",
   "metadata": {},
   "source": [
    "# Exkurs"
   ]
  },
  {
   "cell_type": "code",
   "execution_count": 22,
   "metadata": {},
   "outputs": [
    {
     "name": "stdout",
     "output_type": "stream",
     "text": [
      "Result of the calculation has that format:\n",
      " ['Amsterdam', 'Wien', 'Berlin']\n",
      "\n",
      "This format is needed to mark the optimal route:\n",
      " [('Amsterdam', 'Wien'), ('Amsterdam', 'Helsinki'), ('Wien', 'Helsinki'), ('Wien', 'Berlin'), ('Helsinki', 'Stockholm'), ('Stockholm', 'Berlin')]\n",
      "\n",
      "Coding to get the format is as following:\n",
      "optimal_route = [(path[i - 1], path[i]) for i in range(1, len(path))]\n",
      "\n",
      "It works :-)\n",
      " [('Amsterdam', 'Wien'), ('Wien', 'Berlin')]\n"
     ]
    }
   ],
   "source": [
    "#to show the optimal route\n",
    "print(\"Result of the calculation has that format:\\n\",path)\n",
    "print(\"\\nThis format is needed to mark the optimal route:\\n\",G.edges)\n",
    "print(\"\\nCoding to get the format is as following:\\noptimal_route = [(path[i - 1], path[i]) for i in range(1, len(path))]\")\n",
    "print(\"\\nIt works :-)\\n\",optimal_route)"
   ]
  },
  {
   "cell_type": "markdown",
   "metadata": {},
   "source": [
    "### Mark, print and save the plot with the optimal route"
   ]
  },
  {
   "cell_type": "code",
   "execution_count": 23,
   "metadata": {},
   "outputs": [
    {
     "data": {
      "image/png": "[encoded data removed]",
      "text/plain": [
       "<Figure size 432x288 with 1 Axes>"
      ]
     },
     "metadata": {},
     "output_type": "display_data"
    }
   ],
   "source": [
    "# layout of the plot\n",
    "pos = nx.spring_layout(G)\n",
    "nx.draw_networkx(G,pos)\n",
    "labels = nx.get_edge_attributes(G,'weight')\n",
    "nx.draw_networkx_edge_labels(G,pos,edge_labels=labels)\n",
    "plt.title(\"Dijkstra\")\n",
    "nx.draw_networkx_edges(G, pos, width = 2.5, alpha = 0.6, edgelist = optimal_route, edge_color = 'r')\n",
    "plt.tight_layout()\n",
    "x_values, y_values = zip(*pos.values())\n",
    "x_max = max(x_values)\n",
    "x_min = min(x_values)\n",
    "x_margin = (x_max - x_min) * 0.25\n",
    "plt.xlim(x_min - x_margin, x_max + x_margin)\n",
    "plt.savefig('dijkstra_001.png')\n",
    "plt.show()"
   ]
  },
  {
   "cell_type": "markdown",
   "metadata": {},
   "source": [
    "### Stop timer and get the computational time"
   ]
  },
  {
   "cell_type": "code",
   "execution_count": 7,
   "metadata": {
    "scrolled": true
   },
   "outputs": [
    {
     "name": "stdout",
     "output_type": "stream",
     "text": [
      "\n",
      "Computational time for the Dijkstra algorithm is: 93.806\n"
     ]
    }
   ],
   "source": [
    "#stop timer and print result\n",
    "computation_time = (time.perf_counter() - time_start)\n",
    "print('\\nComputational time for the Dijkstra algorithm is:', round(computation_time,4))"
   ]
  }
 ],
 "metadata": {
  "kernelspec": {
   "display_name": "Python 3",
   "language": "python",
   "name": "python3"
  },
  "language_info": {
   "codemirror_mode": {
    "name": "ipython",
    "version": 3
   },
   "file_extension": ".py",
   "mimetype": "text/x-python",
   "name": "python",
   "nbconvert_exporter": "python",
   "pygments_lexer": "ipython3",
   "version": "3.8.2"
  }
 },
 "nbformat": 4,
 "nbformat_minor": 4
}

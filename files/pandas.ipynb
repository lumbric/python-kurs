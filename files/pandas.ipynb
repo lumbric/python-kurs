{
 "cells": [
  {
   "cell_type": "code",
   "execution_count": 1,
   "id": "recent-exclusive",
   "metadata": {},
   "outputs": [
    {
     "data": {
      "text/html": [
       "<div>\n",
       "<style scoped>\n",
       "    .dataframe tbody tr th:only-of-type {\n",
       "        vertical-align: middle;\n",
       "    }\n",
       "\n",
       "    .dataframe tbody tr th {\n",
       "        vertical-align: top;\n",
       "    }\n",
       "\n",
       "    .dataframe thead th {\n",
       "        text-align: right;\n",
       "    }\n",
       "</style>\n",
       "<table border=\"1\" class=\"dataframe\">\n",
       "  <thead>\n",
       "    <tr style=\"text-align: right;\">\n",
       "      <th></th>\n",
       "      <th>Prozess</th>\n",
       "      <th>Maschinentyp</th>\n",
       "      <th>Temperatur</th>\n",
       "      <th>Parameter1</th>\n",
       "      <th>Parameter2</th>\n",
       "      <th>Ausbeute</th>\n",
       "      <th>Fehlerquote</th>\n",
       "    </tr>\n",
       "  </thead>\n",
       "  <tbody>\n",
       "    <tr>\n",
       "      <th>0</th>\n",
       "      <td>A</td>\n",
       "      <td>X2</td>\n",
       "      <td>22.00</td>\n",
       "      <td>4</td>\n",
       "      <td>2</td>\n",
       "      <td>0.90</td>\n",
       "      <td>0.005</td>\n",
       "    </tr>\n",
       "    <tr>\n",
       "      <th>1</th>\n",
       "      <td>B</td>\n",
       "      <td>X2</td>\n",
       "      <td>23.20</td>\n",
       "      <td>4</td>\n",
       "      <td>1</td>\n",
       "      <td>0.85</td>\n",
       "      <td>NaN</td>\n",
       "    </tr>\n",
       "    <tr>\n",
       "      <th>2</th>\n",
       "      <td>C</td>\n",
       "      <td>X3</td>\n",
       "      <td>23.15</td>\n",
       "      <td>7</td>\n",
       "      <td>3</td>\n",
       "      <td>0.98</td>\n",
       "      <td>0.002</td>\n",
       "    </tr>\n",
       "    <tr>\n",
       "      <th>3</th>\n",
       "      <td>D</td>\n",
       "      <td>X3</td>\n",
       "      <td>23.40</td>\n",
       "      <td>4</td>\n",
       "      <td>4</td>\n",
       "      <td>0.91</td>\n",
       "      <td>0.009</td>\n",
       "    </tr>\n",
       "  </tbody>\n",
       "</table>\n",
       "</div>"
      ],
      "text/plain": [
       "  Prozess Maschinentyp  Temperatur  Parameter1  Parameter2  Ausbeute  \\\n",
       "0       A           X2       22.00           4           2      0.90   \n",
       "1       B           X2       23.20           4           1      0.85   \n",
       "2       C           X3       23.15           7           3      0.98   \n",
       "3       D           X3       23.40           4           4      0.91   \n",
       "\n",
       "   Fehlerquote  \n",
       "0        0.005  \n",
       "1          NaN  \n",
       "2        0.002  \n",
       "3        0.009  "
      ]
     },
     "execution_count": 1,
     "metadata": {},
     "output_type": "execute_result"
    }
   ],
   "source": [
    "df = pd.read_excel(\"process.xlsx\")\n",
    "df"
   ]
  },
  {
   "cell_type": "code",
   "execution_count": 2,
   "id": "exempt-ivory",
   "metadata": {},
   "outputs": [
    {
     "data": {
      "text/html": [
       "<div>\n",
       "<style scoped>\n",
       "    .dataframe tbody tr th:only-of-type {\n",
       "        vertical-align: middle;\n",
       "    }\n",
       "\n",
       "    .dataframe tbody tr th {\n",
       "        vertical-align: top;\n",
       "    }\n",
       "\n",
       "    .dataframe thead th {\n",
       "        text-align: right;\n",
       "    }\n",
       "</style>\n",
       "<table border=\"1\" class=\"dataframe\">\n",
       "  <thead>\n",
       "    <tr style=\"text-align: right;\">\n",
       "      <th></th>\n",
       "      <th>Prozess</th>\n",
       "      <th>Maschinentyp</th>\n",
       "      <th>Temperatur</th>\n",
       "      <th>Parameter1</th>\n",
       "      <th>Parameter2</th>\n",
       "      <th>Ausbeute</th>\n",
       "      <th>Fehlerquote</th>\n",
       "      <th>Ausbeute_qualitativ</th>\n",
       "    </tr>\n",
       "  </thead>\n",
       "  <tbody>\n",
       "    <tr>\n",
       "      <th>0</th>\n",
       "      <td>A</td>\n",
       "      <td>X2</td>\n",
       "      <td>22.00</td>\n",
       "      <td>4</td>\n",
       "      <td>2</td>\n",
       "      <td>0.90</td>\n",
       "      <td>0.005</td>\n",
       "      <td>niedrig</td>\n",
       "    </tr>\n",
       "    <tr>\n",
       "      <th>1</th>\n",
       "      <td>B</td>\n",
       "      <td>X2</td>\n",
       "      <td>23.20</td>\n",
       "      <td>4</td>\n",
       "      <td>1</td>\n",
       "      <td>0.85</td>\n",
       "      <td>NaN</td>\n",
       "      <td>niedrig</td>\n",
       "    </tr>\n",
       "    <tr>\n",
       "      <th>2</th>\n",
       "      <td>C</td>\n",
       "      <td>X3</td>\n",
       "      <td>23.15</td>\n",
       "      <td>7</td>\n",
       "      <td>3</td>\n",
       "      <td>0.98</td>\n",
       "      <td>0.002</td>\n",
       "      <td>hoch</td>\n",
       "    </tr>\n",
       "    <tr>\n",
       "      <th>3</th>\n",
       "      <td>D</td>\n",
       "      <td>X3</td>\n",
       "      <td>23.40</td>\n",
       "      <td>4</td>\n",
       "      <td>4</td>\n",
       "      <td>0.91</td>\n",
       "      <td>0.009</td>\n",
       "      <td>mittel</td>\n",
       "    </tr>\n",
       "  </tbody>\n",
       "</table>\n",
       "</div>"
      ],
      "text/plain": [
       "  Prozess Maschinentyp  Temperatur  Parameter1  Parameter2  Ausbeute  \\\n",
       "0       A           X2       22.00           4           2      0.90   \n",
       "1       B           X2       23.20           4           1      0.85   \n",
       "2       C           X3       23.15           7           3      0.98   \n",
       "3       D           X3       23.40           4           4      0.91   \n",
       "\n",
       "   Fehlerquote Ausbeute_qualitativ  \n",
       "0        0.005             niedrig  \n",
       "1          NaN             niedrig  \n",
       "2        0.002                hoch  \n",
       "3        0.009              mittel  "
      ]
     },
     "execution_count": 2,
     "metadata": {},
     "output_type": "execute_result"
    }
   ],
   "source": [
    "def ausbeute_qualitativ(ausbeute):\n",
    "    if ausbeute > 0.95:\n",
    "        return \"hoch\"\n",
    "    elif ausbeute > 0.9:\n",
    "        return \"mittel\"\n",
    "    else:\n",
    "        return \"niedrig\"\n",
    "    \n",
    "df['Ausbeute_qualitativ'] = df['Ausbeute'].apply(ausbeute_qualitativ)\n",
    "df"
   ]
  },
  {
   "cell_type": "code",
   "execution_count": 5,
   "id": "documentary-dairy",
   "metadata": {},
   "outputs": [
    {
     "data": {
      "text/plain": [
       "0    1\n",
       "1   -1\n",
       "Name: Fehlerquote, dtype: int64"
      ]
     },
     "execution_count": 5,
     "metadata": {},
     "output_type": "execute_result"
    }
   ],
   "source": [
    "#df.iloc[(df['num']-input).abs().argsort()[:2]]\n",
    "df['Fehlerquote'].argsort()[:2]\n"
   ]
  },
  {
   "cell_type": "code",
   "execution_count": null,
   "id": "silent-street",
   "metadata": {},
   "outputs": [],
   "source": [
    "\n"
   ]
  },
  {
   "cell_type": "code",
   "execution_count": null,
   "id": "statutory-sociology",
   "metadata": {},
   "outputs": [],
   "source": []
  },
  {
   "cell_type": "code",
   "execution_count": 7,
   "id": "relative-transportation",
   "metadata": {},
   "outputs": [],
   "source": [
    "df = pd.read_csv(\n",
    "    \"Manufacturing_Process.csv\",\n",
    "    parse_dates=['time_stamp'],\n",
    "    index_col=0,\n",
    ")"
   ]
  },
  {
   "cell_type": "code",
   "execution_count": 11,
   "id": "included-twelve",
   "metadata": {},
   "outputs": [
    {
     "data": {
      "text/plain": [
       "0"
      ]
     },
     "execution_count": 11,
     "metadata": {},
     "output_type": "execute_result"
    }
   ],
   "source": [
    "df.index.get_loc(\"2019-03-06 10:52:33\")"
   ]
  },
  {
   "cell_type": "code",
   "execution_count": null,
   "id": "anonymous-aircraft",
   "metadata": {},
   "outputs": [],
   "source": []
  }
 ],
 "metadata": {
  "kernelspec": {
   "display_name": "Python 3",
   "language": "python",
   "name": "python3"
  },
  "language_info": {
   "codemirror_mode": {
    "name": "ipython",
    "version": 3
   },
   "file_extension": ".py",
   "mimetype": "text/x-python",
   "name": "python",
   "nbconvert_exporter": "python",
   "pygments_lexer": "ipython3",
   "version": "3.9.4"
  }
 },
 "nbformat": 4,
 "nbformat_minor": 5
}
